{
 "cells": [
  {
   "cell_type": "code",
   "execution_count": 2,
   "metadata": {},
   "outputs": [],
   "source": [
    "import numpy as np\n",
    "import matplotlib.pyplot as plt\n",
    "import pandas as pd"
   ]
  },
  {
   "cell_type": "code",
   "execution_count": 10,
   "metadata": {},
   "outputs": [],
   "source": [
    "# LL144 Token Counts\n",
    "HyPA_3_ll144_df = pd.read_csv('3class_k_K_S_Q_ll144_token_count.csv')\n",
    "PA_3_ll144_df = pd.read_csv('3class_PA_k_Q_ll144_token_count.csv')\n",
    "fixed_params_df = pd.read_csv('3class_fixed_params_upper_ll144_token_count.csv')\n"
   ]
  },
  {
   "cell_type": "code",
   "execution_count": 16,
   "metadata": {},
   "outputs": [
    {
     "data": {
      "text/html": [
       "<div>\n",
       "<style scoped>\n",
       "    .dataframe tbody tr th:only-of-type {\n",
       "        vertical-align: middle;\n",
       "    }\n",
       "\n",
       "    .dataframe tbody tr th {\n",
       "        vertical-align: top;\n",
       "    }\n",
       "\n",
       "    .dataframe thead th {\n",
       "        text-align: right;\n",
       "    }\n",
       "</style>\n",
       "<table border=\"1\" class=\"dataframe\">\n",
       "  <thead>\n",
       "    <tr style=\"text-align: right;\">\n",
       "      <th></th>\n",
       "      <th>DataFrame</th>\n",
       "      <th>Average Input Tokens</th>\n",
       "      <th>Average Output Tokens</th>\n",
       "    </tr>\n",
       "  </thead>\n",
       "  <tbody>\n",
       "    <tr>\n",
       "      <th>0</th>\n",
       "      <td>HyPA</td>\n",
       "      <td>2010.459016</td>\n",
       "      <td>217.995902</td>\n",
       "    </tr>\n",
       "    <tr>\n",
       "      <th>1</th>\n",
       "      <td>PA</td>\n",
       "      <td>2351.196721</td>\n",
       "      <td>223.188525</td>\n",
       "    </tr>\n",
       "    <tr>\n",
       "      <th>2</th>\n",
       "      <td>Fixed</td>\n",
       "      <td>2664.196721</td>\n",
       "      <td>225.790984</td>\n",
       "    </tr>\n",
       "  </tbody>\n",
       "</table>\n",
       "</div>"
      ],
      "text/plain": [
       "  DataFrame  Average Input Tokens  Average Output Tokens\n",
       "0      HyPA           2010.459016             217.995902\n",
       "1        PA           2351.196721             223.188525\n",
       "2     Fixed           2664.196721             225.790984"
      ]
     },
     "execution_count": 16,
     "metadata": {},
     "output_type": "execute_result"
    }
   ],
   "source": [
    "# Function to map classification labels and compute label counts\n",
    "def process_dataframe(df):\n",
    "    # Map classification labels to numerical values\n",
    "    label_mapping = {'LABEL_0': 0, 'LABEL_1': 1, 'LABEL_2': 2}  # Add more if there are more labels\n",
    "    df['classification'] = df['classification'].map(label_mapping)\n",
    "    \n",
    "    # Compute label counts\n",
    "    label_counts = df['classification'].value_counts().reindex([0, 1, 2], fill_value=0)  # Adjust reindex list as needed\n",
    "    \n",
    "    # Compute averages\n",
    "    avg_input_tokens = df['total_input_tokens'].mean()\n",
    "    avg_output_tokens = df['total_output_tokens'].mean()\n",
    "    \n",
    "    return avg_input_tokens, avg_output_tokens, label_counts\n",
    "\n",
    "# Process each dataframe\n",
    "avg_input_tokens_HyPA, avg_output_tokens_HyPA, label_counts_HyPA = process_dataframe(HyPA_3_ll144_df)\n",
    "avg_input_tokens_PA, avg_output_tokens_PA, label_counts_PA = process_dataframe(PA_3_ll144_df)\n",
    "avg_input_tokens_fixed, avg_output_tokens_fixed, label_counts_fixed = process_dataframe(fixed_params_df)\n",
    "\n",
    "# Create a new DataFrame to store the results\n",
    "results = {\n",
    "    'DataFrame': ['HyPA', 'PA', 'Fixed'],\n",
    "    'Average Input Tokens': [avg_input_tokens_HyPA, avg_input_tokens_PA, avg_input_tokens_fixed],\n",
    "    'Average Output Tokens': [avg_output_tokens_HyPA, avg_output_tokens_PA, avg_output_tokens_fixed],\n",
    "    #'Count of LABEL_0': [label_counts_HyPA[0], label_counts_PA[0], label_counts_fixed[0]],\n",
    "    #'Count of LABEL_2': [label_counts_HyPA[2], label_counts_PA[2], label_counts_fixed[2]]\n",
    "    ##'Count of LABEL_1': [label_counts_HyPA[1], label_counts_PA[1], label_counts_fixed[1]],\n",
    "}\n",
    "\n",
    "# Convert the results dictionary to a DataFrame\n",
    "results_df = pd.DataFrame(results)\n",
    "\n",
    "results_df"
   ]
  },
  {
   "cell_type": "code",
   "execution_count": null,
   "metadata": {},
   "outputs": [],
   "source": []
  }
 ],
 "metadata": {
  "kernelspec": {
   "display_name": "rag1",
   "language": "python",
   "name": "python3"
  },
  "language_info": {
   "codemirror_mode": {
    "name": "ipython",
    "version": 3
   },
   "file_extension": ".py",
   "mimetype": "text/x-python",
   "name": "python",
   "nbconvert_exporter": "python",
   "pygments_lexer": "ipython3",
   "version": "3.10.7"
  },
  "orig_nbformat": 4
 },
 "nbformat": 4,
 "nbformat_minor": 2
}
